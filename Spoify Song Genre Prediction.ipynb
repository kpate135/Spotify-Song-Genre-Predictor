{
 "cells": [
  {
   "cell_type": "markdown",
   "id": "435b7d46",
   "metadata": {},
   "source": [
    "Ryan Solanki, Jake Merrill, Krishaan Patel, Vishal Gondi, Ryo Kanda"
   ]
  },
  {
   "cell_type": "markdown",
   "id": "587d3c17",
   "metadata": {},
   "source": [
    "**CS105 Final Project Report**"
   ]
  },
  {
   "cell_type": "markdown",
   "id": "a75a1890",
   "metadata": {},
   "source": [
    "The dataset we have is a Spotify dataset that includes over 18,000 songs. The dataset includes the song’s name, artist, lyrics, genre, and various audio features. With this dataset we wanted to be able to predict the genre of a specific song using a predictive model. To do this we focused on using the different audio features of the songs, such as danceability, energy, and loudness. These features are measured on a scale quantitatively by Spotify’s own process. The predictive model we decided to use to incorporate these different features was a KNN Classifier model.\n"
   ]
  },
  {
   "cell_type": "code",
   "execution_count": 1,
   "id": "d7d257a7-974e-4c1d-a62b-5285afea0489",
   "metadata": {},
   "outputs": [],
   "source": [
    "from sklearn import preprocessing\n",
    "from sklearn.model_selection import train_test_split\n",
    "from sklearn.neighbors import KNeighborsClassifier\n",
    "from sklearn import preprocessing\n",
    "from sklearn.model_selection import train_test_split\n",
    "import matplotlib.pyplot as plt\n",
    "import seaborn as sns\n",
    "import pandas as pd\n",
    "import numpy as np\n",
    "\n",
    "\n",
    "df = pd.read_csv(\"spotify_songs.csv\")"
   ]
  },
  {
   "cell_type": "markdown",
   "id": "827eb008",
   "metadata": {},
   "source": [
    "**Original Dataset (Before Cleaning)**"
   ]
  },
  {
   "cell_type": "code",
   "execution_count": 2,
   "id": "75eb78c0-b5af-4ce9-b792-fc59828b902a",
   "metadata": {},
   "outputs": [
    {
     "data": {
      "text/html": [
       "<div>\n",
       "<style scoped>\n",
       "    .dataframe tbody tr th:only-of-type {\n",
       "        vertical-align: middle;\n",
       "    }\n",
       "\n",
       "    .dataframe tbody tr th {\n",
       "        vertical-align: top;\n",
       "    }\n",
       "\n",
       "    .dataframe thead th {\n",
       "        text-align: right;\n",
       "    }\n",
       "</style>\n",
       "<table border=\"1\" class=\"dataframe\">\n",
       "  <thead>\n",
       "    <tr style=\"text-align: right;\">\n",
       "      <th></th>\n",
       "      <th>track_id</th>\n",
       "      <th>track_name</th>\n",
       "      <th>track_artist</th>\n",
       "      <th>lyrics</th>\n",
       "      <th>track_popularity</th>\n",
       "      <th>track_album_id</th>\n",
       "      <th>track_album_name</th>\n",
       "      <th>track_album_release_date</th>\n",
       "      <th>playlist_name</th>\n",
       "      <th>playlist_id</th>\n",
       "      <th>...</th>\n",
       "      <th>loudness</th>\n",
       "      <th>mode</th>\n",
       "      <th>speechiness</th>\n",
       "      <th>acousticness</th>\n",
       "      <th>instrumentalness</th>\n",
       "      <th>liveness</th>\n",
       "      <th>valence</th>\n",
       "      <th>tempo</th>\n",
       "      <th>duration_ms</th>\n",
       "      <th>language</th>\n",
       "    </tr>\n",
       "  </thead>\n",
       "  <tbody>\n",
       "    <tr>\n",
       "      <th>0</th>\n",
       "      <td>0017A6SJgTbfQVU2EtsPNo</td>\n",
       "      <td>Pangarap</td>\n",
       "      <td>Barbie's Cradle</td>\n",
       "      <td>Minsan pa Nang ako'y napalingon Hindi ko alam ...</td>\n",
       "      <td>41</td>\n",
       "      <td>1srJQ0njEQgd8w4XSqI4JQ</td>\n",
       "      <td>Trip</td>\n",
       "      <td>2001-01-01</td>\n",
       "      <td>Pinoy Classic Rock</td>\n",
       "      <td>37i9dQZF1DWYDQ8wBxd7xt</td>\n",
       "      <td>...</td>\n",
       "      <td>-10.068</td>\n",
       "      <td>1</td>\n",
       "      <td>0.0236</td>\n",
       "      <td>0.27900</td>\n",
       "      <td>0.01170</td>\n",
       "      <td>0.0887</td>\n",
       "      <td>0.566</td>\n",
       "      <td>97.091</td>\n",
       "      <td>235440</td>\n",
       "      <td>tl</td>\n",
       "    </tr>\n",
       "    <tr>\n",
       "      <th>1</th>\n",
       "      <td>004s3t0ONYlzxII9PLgU6z</td>\n",
       "      <td>I Feel Alive</td>\n",
       "      <td>Steady Rollin</td>\n",
       "      <td>The trees, are singing in the wind The sky blu...</td>\n",
       "      <td>28</td>\n",
       "      <td>3z04Lb9Dsilqw68SHt6jLB</td>\n",
       "      <td>Love &amp; Loss</td>\n",
       "      <td>2017-11-21</td>\n",
       "      <td>Hard Rock Workout</td>\n",
       "      <td>3YouF0u7waJnolytf9JCXf</td>\n",
       "      <td>...</td>\n",
       "      <td>-4.739</td>\n",
       "      <td>1</td>\n",
       "      <td>0.0442</td>\n",
       "      <td>0.01170</td>\n",
       "      <td>0.00994</td>\n",
       "      <td>0.3470</td>\n",
       "      <td>0.404</td>\n",
       "      <td>135.225</td>\n",
       "      <td>373512</td>\n",
       "      <td>en</td>\n",
       "    </tr>\n",
       "    <tr>\n",
       "      <th>2</th>\n",
       "      <td>00chLpzhgVjxs1zKC9UScL</td>\n",
       "      <td>Poison</td>\n",
       "      <td>Bell Biv DeVoe</td>\n",
       "      <td>NA Yeah, Spyderman and Freeze in full effect U...</td>\n",
       "      <td>0</td>\n",
       "      <td>6oZ6brjB8x3GoeSYdwJdPc</td>\n",
       "      <td>Gold</td>\n",
       "      <td>2005-01-01</td>\n",
       "      <td>Back in the day - R&amp;B, New Jack Swing, Swingbe...</td>\n",
       "      <td>3a9y4eeCJRmG9p4YKfqYIx</td>\n",
       "      <td>...</td>\n",
       "      <td>-7.504</td>\n",
       "      <td>0</td>\n",
       "      <td>0.2160</td>\n",
       "      <td>0.00432</td>\n",
       "      <td>0.00723</td>\n",
       "      <td>0.4890</td>\n",
       "      <td>0.650</td>\n",
       "      <td>111.904</td>\n",
       "      <td>262467</td>\n",
       "      <td>en</td>\n",
       "    </tr>\n",
       "    <tr>\n",
       "      <th>3</th>\n",
       "      <td>00cqd6ZsSkLZqGMlQCR0Zo</td>\n",
       "      <td>Baby It's Cold Outside (feat. Christina Aguilera)</td>\n",
       "      <td>CeeLo Green</td>\n",
       "      <td>I really can't stay Baby it's cold outside I'v...</td>\n",
       "      <td>41</td>\n",
       "      <td>3ssspRe42CXkhPxdc12xcp</td>\n",
       "      <td>CeeLo's Magic Moment</td>\n",
       "      <td>2012-10-29</td>\n",
       "      <td>Christmas Soul</td>\n",
       "      <td>6FZYc2BvF7tColxO8PBShV</td>\n",
       "      <td>...</td>\n",
       "      <td>-5.819</td>\n",
       "      <td>0</td>\n",
       "      <td>0.0341</td>\n",
       "      <td>0.68900</td>\n",
       "      <td>0.00000</td>\n",
       "      <td>0.0664</td>\n",
       "      <td>0.405</td>\n",
       "      <td>118.593</td>\n",
       "      <td>243067</td>\n",
       "      <td>en</td>\n",
       "    </tr>\n",
       "    <tr>\n",
       "      <th>4</th>\n",
       "      <td>00emjlCv9azBN0fzuuyLqy</td>\n",
       "      <td>Dumb Litty</td>\n",
       "      <td>KARD</td>\n",
       "      <td>Get up out of my business You don't keep me fr...</td>\n",
       "      <td>65</td>\n",
       "      <td>7h5X3xhh3peIK9Y0qI5hbK</td>\n",
       "      <td>KARD 2nd Digital Single ‘Dumb Litty’</td>\n",
       "      <td>2019-09-22</td>\n",
       "      <td>K-Party Dance Mix</td>\n",
       "      <td>37i9dQZF1DX4RDXswvP6Mj</td>\n",
       "      <td>...</td>\n",
       "      <td>-1.993</td>\n",
       "      <td>1</td>\n",
       "      <td>0.0409</td>\n",
       "      <td>0.03700</td>\n",
       "      <td>0.00000</td>\n",
       "      <td>0.1380</td>\n",
       "      <td>0.240</td>\n",
       "      <td>130.018</td>\n",
       "      <td>193160</td>\n",
       "      <td>en</td>\n",
       "    </tr>\n",
       "  </tbody>\n",
       "</table>\n",
       "<p>5 rows × 25 columns</p>\n",
       "</div>"
      ],
      "text/plain": [
       "                 track_id                                         track_name  \\\n",
       "0  0017A6SJgTbfQVU2EtsPNo                                           Pangarap   \n",
       "1  004s3t0ONYlzxII9PLgU6z                                       I Feel Alive   \n",
       "2  00chLpzhgVjxs1zKC9UScL                                             Poison   \n",
       "3  00cqd6ZsSkLZqGMlQCR0Zo  Baby It's Cold Outside (feat. Christina Aguilera)   \n",
       "4  00emjlCv9azBN0fzuuyLqy                                         Dumb Litty   \n",
       "\n",
       "      track_artist                                             lyrics  \\\n",
       "0  Barbie's Cradle  Minsan pa Nang ako'y napalingon Hindi ko alam ...   \n",
       "1    Steady Rollin  The trees, are singing in the wind The sky blu...   \n",
       "2   Bell Biv DeVoe  NA Yeah, Spyderman and Freeze in full effect U...   \n",
       "3      CeeLo Green  I really can't stay Baby it's cold outside I'v...   \n",
       "4             KARD  Get up out of my business You don't keep me fr...   \n",
       "\n",
       "   track_popularity          track_album_id  \\\n",
       "0                41  1srJQ0njEQgd8w4XSqI4JQ   \n",
       "1                28  3z04Lb9Dsilqw68SHt6jLB   \n",
       "2                 0  6oZ6brjB8x3GoeSYdwJdPc   \n",
       "3                41  3ssspRe42CXkhPxdc12xcp   \n",
       "4                65  7h5X3xhh3peIK9Y0qI5hbK   \n",
       "\n",
       "                       track_album_name track_album_release_date  \\\n",
       "0                                  Trip               2001-01-01   \n",
       "1                           Love & Loss               2017-11-21   \n",
       "2                                  Gold               2005-01-01   \n",
       "3                  CeeLo's Magic Moment               2012-10-29   \n",
       "4  KARD 2nd Digital Single ‘Dumb Litty’               2019-09-22   \n",
       "\n",
       "                                       playlist_name             playlist_id  \\\n",
       "0                                 Pinoy Classic Rock  37i9dQZF1DWYDQ8wBxd7xt   \n",
       "1                                  Hard Rock Workout  3YouF0u7waJnolytf9JCXf   \n",
       "2  Back in the day - R&B, New Jack Swing, Swingbe...  3a9y4eeCJRmG9p4YKfqYIx   \n",
       "3                                     Christmas Soul  6FZYc2BvF7tColxO8PBShV   \n",
       "4                                  K-Party Dance Mix  37i9dQZF1DX4RDXswvP6Mj   \n",
       "\n",
       "   ... loudness mode  speechiness  acousticness  instrumentalness  liveness  \\\n",
       "0  ...  -10.068    1       0.0236       0.27900           0.01170    0.0887   \n",
       "1  ...   -4.739    1       0.0442       0.01170           0.00994    0.3470   \n",
       "2  ...   -7.504    0       0.2160       0.00432           0.00723    0.4890   \n",
       "3  ...   -5.819    0       0.0341       0.68900           0.00000    0.0664   \n",
       "4  ...   -1.993    1       0.0409       0.03700           0.00000    0.1380   \n",
       "\n",
       "   valence    tempo  duration_ms  language  \n",
       "0    0.566   97.091       235440        tl  \n",
       "1    0.404  135.225       373512        en  \n",
       "2    0.650  111.904       262467        en  \n",
       "3    0.405  118.593       243067        en  \n",
       "4    0.240  130.018       193160        en  \n",
       "\n",
       "[5 rows x 25 columns]"
      ]
     },
     "execution_count": 2,
     "metadata": {},
     "output_type": "execute_result"
    }
   ],
   "source": [
    "df.head()"
   ]
  },
  {
   "cell_type": "markdown",
   "id": "b12d993f",
   "metadata": {},
   "source": [
    "**Cleaning Up the Dataset** <br>\n",
    "We first remove all unnecessary features from the dataset, because we only wish to observe quantitative song attributes. <br>\n",
    "Initially all genres were included, but after analyzing our dataset we found dropping certain genres would improve our accuracy. <br>\n",
    "\n",
    "The final combination of genres we used were EDM, Rap, and Rock as shown below. <br>\n",
    "\n",
    "We assign numeric values to each categorical genre to be later used for our knn model."
   ]
  },
  {
   "cell_type": "code",
   "execution_count": 3,
   "id": "ceab3020-de90-4519-8fda-456590b62db6",
   "metadata": {},
   "outputs": [],
   "source": [
    "df2 = df.copy()\n",
    "df2.drop(['lyrics', 'track_album_id', 'track_album_name', 'track_album_release_date', 'playlist_name', 'playlist_id', 'track_id', 'track_artist', 'playlist_subgenre'], axis=1, inplace=True)\n",
    "#df2.drop(df.index[df['playlist_genre'] == 'edm'], inplace = True)\n",
    "df2.drop(df.index[df['playlist_genre'] == 'pop'], inplace = True)\n",
    "#df2.drop(df.index[df['playlist_genre'] == 'rap'], inplace = True)\n",
    "#df2.drop(df.index[df['playlist_genre'] == 'rock'], inplace = True)\n",
    "df2.drop(df.index[df['playlist_genre'] == 'r&b'], inplace = True)\n",
    "df2.drop(df.index[df['playlist_genre'] == 'latin'], inplace = True)\n",
    "\n",
    "newGenre = {'playlist_genre':{'edm':0,'pop':1,'rap':2,'rock':3,'r&b':4,'latin':5}}\n",
    "df2 = df2.replace(newGenre)"
   ]
  },
  {
   "cell_type": "markdown",
   "id": "04b67731",
   "metadata": {},
   "source": [
    "We normalized the data using the MinMaxScaler method."
   ]
  },
  {
   "cell_type": "code",
   "execution_count": 4,
   "id": "4e9ef953-e6cd-48b8-8b2a-d7a983772cdb",
   "metadata": {},
   "outputs": [],
   "source": [
    "temp = ['danceability', 'energy', 'loudness', 'mode', 'speechiness', 'valence', 'tempo', 'duration_ms']\n",
    "\n",
    "tempG = temp.copy()\n",
    "tempG.append('playlist_genre')\n",
    "preNormalizedData = df2[tempG]\n",
    "x_data = preNormalizedData.drop(['playlist_genre'],axis=1)\n",
    "y_data = preNormalizedData['playlist_genre']\n",
    "MinMaxScaler = preprocessing.MinMaxScaler()\n",
    "X_data_minmax = MinMaxScaler.fit_transform(x_data)\n",
    "normalizedData = pd.DataFrame(X_data_minmax,columns=temp)\n",
    "normalizedData = normalizedData.set_index(y_data.index)"
   ]
  },
  {
   "cell_type": "markdown",
   "id": "ba4a9c89",
   "metadata": {},
   "source": [
    "**EDA**"
   ]
  },
  {
   "cell_type": "code",
   "execution_count": 5,
   "id": "52cc8151",
   "metadata": {},
   "outputs": [],
   "source": [
    "EDA_df = df.copy()\n",
    "EDA_df.drop(['lyrics', 'track_album_id', 'track_album_name', 'track_album_release_date', 'playlist_name', 'playlist_id', 'track_id', 'track_artist', 'playlist_subgenre'], axis=1, inplace=True)\n",
    "newGenre_EDA = {'playlist_genre':{'edm':0,'pop':1,'rap':2,'rock':3,'r&b':4,'latin':5}}\n",
    "EDA_df = EDA_df.replace(newGenre_EDA)\n",
    "preNormalizedData_EDA = EDA_df[['track_popularity', 'danceability', 'speechiness','tempo', 'energy', 'instrumentalness', 'loudness', 'duration_ms','playlist_genre', 'valence', 'acousticness']]\n",
    "x_data_EDA = preNormalizedData_EDA.drop(['playlist_genre'],axis=1)\n",
    "y_data_EDA = preNormalizedData_EDA['playlist_genre']\n",
    "\n",
    "X_data_minmax_EDA = MinMaxScaler.fit_transform(x_data_EDA)\n",
    "normalizedData_EDA = pd.DataFrame(X_data_minmax_EDA,columns=['track_popularity', 'danceability', 'instrumentalness', 'speechiness','tempo', 'energy', 'loudness', 'duration_ms', 'valence', 'acousticness'])\n",
    "normalizedData_EDA = normalizedData_EDA.set_index(y_data_EDA.index)\n",
    "fullNormalizedData_EDA = normalizedData_EDA.copy()\n",
    "fullNormalizedData_EDA['playlist_genre'] = preNormalizedData_EDA['playlist_genre']"
   ]
  },
  {
   "cell_type": "markdown",
   "id": "eb45eacd",
   "metadata": {},
   "source": [
    "Histogram Visualizations for the Normalized Ratings of Each Feature"
   ]
  },
  {
   "cell_type": "code",
   "execution_count": 6,
   "id": "bf9c1e74",
   "metadata": {},
   "outputs": [
    {
     "data": {
      "text/plain": [
       "array([[<AxesSubplot:title={'center':'track_popularity'}>]], dtype=object)"
      ]
     },
     "execution_count": 6,
     "metadata": {},
     "output_type": "execute_result"
    },
    {
     "data": {
      "image/png": "[encoded data removed]",
      "text/plain": [
       "<Figure size 432x288 with 1 Axes>"
      ]
     },
     "metadata": {
      "needs_background": "light"
     },
     "output_type": "display_data"
    }
   ],
   "source": [
    "normalizedData_EDA.hist(column='track_popularity')"
   ]
  },
  {
   "cell_type": "code",
   "execution_count": 7,
   "id": "3d1264b8",
   "metadata": {},
   "outputs": [
    {
     "data": {
      "text/plain": [
       "array([[<AxesSubplot:title={'center':'danceability'}>]], dtype=object)"
      ]
     },
     "execution_count": 7,
     "metadata": {},
     "output_type": "execute_result"
    },
    {
     "data": {
      "image/png": "[encoded data removed]",
      "text/plain": [
       "<Figure size 432x288 with 1 Axes>"
      ]
     },
     "metadata": {
      "needs_background": "light"
     },
     "output_type": "display_data"
    }
   ],
   "source": [
    "normalizedData_EDA.hist(column='danceability')"
   ]
  },
  {
   "cell_type": "code",
   "execution_count": 8,
   "id": "b0767b3f",
   "metadata": {},
   "outputs": [
    {
     "data": {
      "text/plain": [
       "array([[<AxesSubplot:title={'center':'instrumentalness'}>]], dtype=object)"
      ]
     },
     "execution_count": 8,
     "metadata": {},
     "output_type": "execute_result"
    },
    {
     "data": {
      "image/png": "[encoded data removed]",
      "text/plain": [
       "<Figure size 432x288 with 1 Axes>"
      ]
     },
     "metadata": {
      "needs_background": "light"
     },
     "output_type": "display_data"
    }
   ],
   "source": [
    "normalizedData_EDA.hist(column='instrumentalness')"
   ]
  },
  {
   "cell_type": "code",
   "execution_count": 9,
   "id": "b3bbec21",
   "metadata": {},
   "outputs": [
    {
     "data": {
      "text/plain": [
       "array([[<AxesSubplot:title={'center':'speechiness'}>]], dtype=object)"
      ]
     },
     "execution_count": 9,
     "metadata": {},
     "output_type": "execute_result"
    },
    {
     "data": {
      "image/png": "[encoded data removed]",
      "text/plain": [
       "<Figure size 432x288 with 1 Axes>"
      ]
     },
     "metadata": {
      "needs_background": "light"
     },
     "output_type": "display_data"
    }
   ],
   "source": [
    "normalizedData_EDA.hist(column='speechiness')"
   ]
  },
  {
   "cell_type": "code",
   "execution_count": 10,
   "id": "afc71f0e",
   "metadata": {},
   "outputs": [
    {
     "data": {
      "text/plain": [
       "array([[<AxesSubplot:title={'center':'tempo'}>]], dtype=object)"
      ]
     },
     "execution_count": 10,
     "metadata": {},
     "output_type": "execute_result"
    },
    {
     "data": {
      "image/png": "[encoded data removed]",
      "text/plain": [
       "<Figure size 432x288 with 1 Axes>"
      ]
     },
     "metadata": {
      "needs_background": "light"
     },
     "output_type": "display_data"
    }
   ],
   "source": [
    "normalizedData_EDA.hist(column='tempo')"
   ]
  },
  {
   "cell_type": "code",
   "execution_count": 11,
   "id": "4050d0c2",
   "metadata": {},
   "outputs": [
    {
     "data": {
      "text/plain": [
       "array([[<AxesSubplot:title={'center':'energy'}>]], dtype=object)"
      ]
     },
     "execution_count": 11,
     "metadata": {},
     "output_type": "execute_result"
    },
    {
     "data": {
      "image/png": "[encoded data removed]",
      "text/plain": [
       "<Figure size 432x288 with 1 Axes>"
      ]
     },
     "metadata": {
      "needs_background": "light"
     },
     "output_type": "display_data"
    }
   ],
   "source": [
    "normalizedData_EDA.hist(column='energy')"
   ]
  },
  {
   "cell_type": "code",
   "execution_count": 12,
   "id": "43e18f80",
   "metadata": {},
   "outputs": [
    {
     "data": {
      "text/plain": [
       "array([[<AxesSubplot:title={'center':'loudness'}>]], dtype=object)"
      ]
     },
     "execution_count": 12,
     "metadata": {},
     "output_type": "execute_result"
    },
    {
     "data": {
      "image/png": "[encoded data removed]",
      "text/plain": [
       "<Figure size 432x288 with 1 Axes>"
      ]
     },
     "metadata": {
      "needs_background": "light"
     },
     "output_type": "display_data"
    }
   ],
   "source": [
    "normalizedData_EDA.hist(column='loudness')"
   ]
  },
  {
   "cell_type": "code",
   "execution_count": 13,
   "id": "1e461c92",
   "metadata": {},
   "outputs": [
    {
     "data": {
      "text/plain": [
       "array([[<AxesSubplot:title={'center':'duration_ms'}>]], dtype=object)"
      ]
     },
     "execution_count": 13,
     "metadata": {},
     "output_type": "execute_result"
    },
    {
     "data": {
      "image/png": "[encoded data removed]",
      "text/plain": [
       "<Figure size 432x288 with 1 Axes>"
      ]
     },
     "metadata": {
      "needs_background": "light"
     },
     "output_type": "display_data"
    }
   ],
   "source": [
    "normalizedData_EDA.hist(column='duration_ms')"
   ]
  },
  {
   "cell_type": "code",
   "execution_count": 14,
   "id": "ed8bb953",
   "metadata": {},
   "outputs": [
    {
     "data": {
      "text/plain": [
       "array([[<AxesSubplot:title={'center':'valence'}>]], dtype=object)"
      ]
     },
     "execution_count": 14,
     "metadata": {},
     "output_type": "execute_result"
    },
    {
     "data": {
      "image/png": "[encoded data removed]",
      "text/plain": [
       "<Figure size 432x288 with 1 Axes>"
      ]
     },
     "metadata": {
      "needs_background": "light"
     },
     "output_type": "display_data"
    }
   ],
   "source": [
    "normalizedData_EDA.hist(column='valence')"
   ]
  },
  {
   "cell_type": "code",
   "execution_count": 15,
   "id": "56e4bd7f",
   "metadata": {},
   "outputs": [
    {
     "data": {
      "text/plain": [
       "array([[<AxesSubplot:title={'center':'acousticness'}>]], dtype=object)"
      ]
     },
     "execution_count": 15,
     "metadata": {},
     "output_type": "execute_result"
    },
    {
     "data": {
      "image/png": "[encoded data removed]",
      "text/plain": [
       "<Figure size 432x288 with 1 Axes>"
      ]
     },
     "metadata": {
      "needs_background": "light"
     },
     "output_type": "display_data"
    }
   ],
   "source": [
    "normalizedData_EDA.hist(column='acousticness')"
   ]
  },
  {
   "cell_type": "markdown",
   "id": "f3d360ca",
   "metadata": {},
   "source": [
    "Here, we noticed some features were not very evenly distributed and some were. <br>\n",
    "From this, we gathered that non-evenly distributed features might not show much difference between genres. <br>\n",
    "In order to truly see this, we created bar graphs to visualize the mean ratings of each feature between the different genres. <br>"
   ]
  },
  {
   "cell_type": "markdown",
   "id": "681944f1",
   "metadata": {},
   "source": [
    "Bar Graph Visualizations for the Mean Normalized Ratings of Each Feature Between Different Genres"
   ]
  },
  {
   "cell_type": "code",
   "execution_count": 16,
   "id": "59d45684",
   "metadata": {},
   "outputs": [
    {
     "data": {
      "text/plain": [
       "[Text(0, 0, 'edm'),\n",
       " Text(1, 0, 'pop'),\n",
       " Text(2, 0, 'rap'),\n",
       " Text(3, 0, 'rock'),\n",
       " Text(4, 0, 'r&b'),\n",
       " Text(5, 0, 'latin')]"
      ]
     },
     "execution_count": 16,
     "metadata": {},
     "output_type": "execute_result"
    },
    {
     "data": {
      "image/png": "[encoded data removed]",
      "text/plain": [
       "<Figure size 432x288 with 1 Axes>"
      ]
     },
     "metadata": {
      "needs_background": "light"
     },
     "output_type": "display_data"
    }
   ],
   "source": [
    "sns.barplot(data=fullNormalizedData_EDA, x='playlist_genre', y='loudness').set_xticklabels(['edm', 'pop', 'rap', 'rock', 'r&b', 'latin'])"
   ]
  },
  {
   "cell_type": "code",
   "execution_count": 17,
   "id": "a86669f8",
   "metadata": {},
   "outputs": [
    {
     "data": {
      "text/plain": [
       "[Text(0, 0, 'edm'),\n",
       " Text(1, 0, 'pop'),\n",
       " Text(2, 0, 'rap'),\n",
       " Text(3, 0, 'rock'),\n",
       " Text(4, 0, 'r&b'),\n",
       " Text(5, 0, 'latin')]"
      ]
     },
     "execution_count": 17,
     "metadata": {},
     "output_type": "execute_result"
    },
    {
     "data": {
      "image/png": "[encoded data removed]",
      "text/plain": [
       "<Figure size 432x288 with 1 Axes>"
      ]
     },
     "metadata": {
      "needs_background": "light"
     },
     "output_type": "display_data"
    }
   ],
   "source": [
    "sns.barplot(data=fullNormalizedData_EDA, x='playlist_genre', y='track_popularity').set_xticklabels(['edm', 'pop', 'rap', 'rock', 'r&b', 'latin'])"
   ]
  },
  {
   "cell_type": "code",
   "execution_count": 18,
   "id": "546b1122",
   "metadata": {},
   "outputs": [
    {
     "data": {
      "text/plain": [
       "[Text(0, 0, 'edm'),\n",
       " Text(1, 0, 'pop'),\n",
       " Text(2, 0, 'rap'),\n",
       " Text(3, 0, 'rock'),\n",
       " Text(4, 0, 'r&b'),\n",
       " Text(5, 0, 'latin')]"
      ]
     },
     "execution_count": 18,
     "metadata": {},
     "output_type": "execute_result"
    },
    {
     "data": {
      "image/png": "[encoded data removed]",
      "text/plain": [
       "<Figure size 432x288 with 1 Axes>"
      ]
     },
     "metadata": {
      "needs_background": "light"
     },
     "output_type": "display_data"
    }
   ],
   "source": [
    "sns.barplot(data=fullNormalizedData_EDA, x='playlist_genre', y='acousticness').set_xticklabels(['edm', 'pop', 'rap', 'rock', 'r&b', 'latin'])"
   ]
  },
  {
   "cell_type": "code",
   "execution_count": 19,
   "id": "f73f9b3b",
   "metadata": {},
   "outputs": [
    {
     "data": {
      "text/plain": [
       "[Text(0, 0, 'edm'),\n",
       " Text(1, 0, 'pop'),\n",
       " Text(2, 0, 'rap'),\n",
       " Text(3, 0, 'rock'),\n",
       " Text(4, 0, 'r&b'),\n",
       " Text(5, 0, 'latin')]"
      ]
     },
     "execution_count": 19,
     "metadata": {},
     "output_type": "execute_result"
    },
    {
     "data": {
      "image/png": "[encoded data removed]",
      "text/plain": [
       "<Figure size 432x288 with 1 Axes>"
      ]
     },
     "metadata": {
      "needs_background": "light"
     },
     "output_type": "display_data"
    }
   ],
   "source": [
    "sns.barplot(data=fullNormalizedData_EDA, x='playlist_genre', y='valence').set_xticklabels(['edm', 'pop', 'rap', 'rock', 'r&b', 'latin'])"
   ]
  },
  {
   "cell_type": "code",
   "execution_count": 20,
   "id": "5e04ad54",
   "metadata": {},
   "outputs": [
    {
     "data": {
      "text/plain": [
       "[Text(0, 0, 'edm'),\n",
       " Text(1, 0, 'pop'),\n",
       " Text(2, 0, 'rap'),\n",
       " Text(3, 0, 'rock'),\n",
       " Text(4, 0, 'r&b'),\n",
       " Text(5, 0, 'latin')]"
      ]
     },
     "execution_count": 20,
     "metadata": {},
     "output_type": "execute_result"
    },
    {
     "data": {
      "image/png": "[encoded data removed]",
      "text/plain": [
       "<Figure size 432x288 with 1 Axes>"
      ]
     },
     "metadata": {
      "needs_background": "light"
     },
     "output_type": "display_data"
    }
   ],
   "source": [
    "sns.barplot(data=fullNormalizedData_EDA, x='playlist_genre', y='danceability').set_xticklabels(['edm', 'pop', 'rap', 'rock', 'r&b', 'latin'])"
   ]
  },
  {
   "cell_type": "code",
   "execution_count": 21,
   "id": "9e866f57",
   "metadata": {},
   "outputs": [
    {
     "data": {
      "text/plain": [
       "[Text(0, 0, 'edm'),\n",
       " Text(1, 0, 'pop'),\n",
       " Text(2, 0, 'rap'),\n",
       " Text(3, 0, 'rock'),\n",
       " Text(4, 0, 'r&b'),\n",
       " Text(5, 0, 'latin')]"
      ]
     },
     "execution_count": 21,
     "metadata": {},
     "output_type": "execute_result"
    },
    {
     "data": {
      "image/png": "[encoded data removed]",
      "text/plain": [
       "<Figure size 432x288 with 1 Axes>"
      ]
     },
     "metadata": {
      "needs_background": "light"
     },
     "output_type": "display_data"
    }
   ],
   "source": [
    "sns.barplot(data=fullNormalizedData_EDA, x='playlist_genre', y='instrumentalness').set_xticklabels(['edm', 'pop', 'rap', 'rock', 'r&b', 'latin'])"
   ]
  },
  {
   "cell_type": "code",
   "execution_count": 22,
   "id": "41690eca",
   "metadata": {},
   "outputs": [
    {
     "data": {
      "text/plain": [
       "[Text(0, 0, 'edm'),\n",
       " Text(1, 0, 'pop'),\n",
       " Text(2, 0, 'rap'),\n",
       " Text(3, 0, 'rock'),\n",
       " Text(4, 0, 'r&b'),\n",
       " Text(5, 0, 'latin')]"
      ]
     },
     "execution_count": 22,
     "metadata": {},
     "output_type": "execute_result"
    },
    {
     "data": {
      "image/png": "[encoded data removed]",
      "text/plain": [
       "<Figure size 432x288 with 1 Axes>"
      ]
     },
     "metadata": {
      "needs_background": "light"
     },
     "output_type": "display_data"
    }
   ],
   "source": [
    "sns.barplot(data=fullNormalizedData_EDA, x='playlist_genre', y='speechiness').set_xticklabels(['edm', 'pop', 'rap', 'rock', 'r&b', 'latin'])"
   ]
  },
  {
   "cell_type": "code",
   "execution_count": 23,
   "id": "7657f01e",
   "metadata": {},
   "outputs": [
    {
     "data": {
      "text/plain": [
       "[Text(0, 0, 'edm'),\n",
       " Text(1, 0, 'pop'),\n",
       " Text(2, 0, 'rap'),\n",
       " Text(3, 0, 'rock'),\n",
       " Text(4, 0, 'r&b'),\n",
       " Text(5, 0, 'latin')]"
      ]
     },
     "execution_count": 23,
     "metadata": {},
     "output_type": "execute_result"
    },
    {
     "data": {
      "image/png": "[encoded data removed]",
      "text/plain": [
       "<Figure size 432x288 with 1 Axes>"
      ]
     },
     "metadata": {
      "needs_background": "light"
     },
     "output_type": "display_data"
    }
   ],
   "source": [
    "sns.barplot(data=fullNormalizedData_EDA, x='playlist_genre', y='tempo').set_xticklabels(['edm', 'pop', 'rap', 'rock', 'r&b', 'latin'])"
   ]
  },
  {
   "cell_type": "code",
   "execution_count": 24,
   "id": "14188acd",
   "metadata": {},
   "outputs": [
    {
     "data": {
      "text/plain": [
       "[Text(0, 0, 'edm'),\n",
       " Text(1, 0, 'pop'),\n",
       " Text(2, 0, 'rap'),\n",
       " Text(3, 0, 'rock'),\n",
       " Text(4, 0, 'r&b'),\n",
       " Text(5, 0, 'latin')]"
      ]
     },
     "execution_count": 24,
     "metadata": {},
     "output_type": "execute_result"
    },
    {
     "data": {
      "image/png": "[encoded data removed]",
      "text/plain": [
       "<Figure size 432x288 with 1 Axes>"
      ]
     },
     "metadata": {
      "needs_background": "light"
     },
     "output_type": "display_data"
    }
   ],
   "source": [
    "sns.barplot(data=fullNormalizedData_EDA, x='playlist_genre', y='energy').set_xticklabels(['edm', 'pop', 'rap', 'rock', 'r&b', 'latin'])"
   ]
  },
  {
   "cell_type": "code",
   "execution_count": 25,
   "id": "f2412b92",
   "metadata": {},
   "outputs": [
    {
     "data": {
      "text/plain": [
       "[Text(0, 0, 'edm'),\n",
       " Text(1, 0, 'pop'),\n",
       " Text(2, 0, 'rap'),\n",
       " Text(3, 0, 'rock'),\n",
       " Text(4, 0, 'r&b'),\n",
       " Text(5, 0, 'latin')]"
      ]
     },
     "execution_count": 25,
     "metadata": {},
     "output_type": "execute_result"
    },
    {
     "data": {
      "image/png": "[encoded data removed]",
      "text/plain": [
       "<Figure size 432x288 with 1 Axes>"
      ]
     },
     "metadata": {
      "needs_background": "light"
     },
     "output_type": "display_data"
    }
   ],
   "source": [
    "sns.barplot(data=fullNormalizedData_EDA, x='playlist_genre', y='duration_ms').set_xticklabels(['edm', 'pop', 'rap', 'rock', 'r&b', 'latin'])"
   ]
  },
  {
   "cell_type": "markdown",
   "id": "f8643ce4",
   "metadata": {},
   "source": [
    "First, we tried running a KNN model including every genre and every quantiative feature. <br>\n",
    "<br>\n",
    "To be able to create a KNN model, we imported a KNN classifier from the sklearn library. <br> \n",
    "In order to intialize the model, we split the data into training and testing. <br>\n",
    "From there, we fit the model with the training data. <br>\n",
    "Finally, we predicted the genres based on the features in the testing data."
   ]
  },
  {
   "cell_type": "code",
   "execution_count": 26,
   "id": "7515116c",
   "metadata": {},
   "outputs": [],
   "source": [
    "X_train, X_test, y_train, y_test = train_test_split(normalizedData_EDA, y_data_EDA,test_size=0.2, random_state = 1)\n",
    "knn_clf = KNeighborsClassifier()\n",
    "knn_clf.fit(X_train,y_train)\n",
    "ypred=knn_clf.predict(X_test)"
   ]
  },
  {
   "cell_type": "markdown",
   "id": "7d06e4bc",
   "metadata": {},
   "source": [
    "We import sklearn metrics to observe the accuracy of our model which was about .47"
   ]
  },
  {
   "cell_type": "code",
   "execution_count": 27,
   "id": "37302dae",
   "metadata": {},
   "outputs": [
    {
     "name": "stdout",
     "output_type": "stream",
     "text": [
      "Confusion Matrix:\n",
      "[[252  93  20  19  19   6]\n",
      " [119 372  63 107  84  39]\n",
      " [ 57 113 368  32  81  42]\n",
      " [ 50 163  13 391  63  14]\n",
      " [ 35 136 116  94 236  57]\n",
      " [ 47 114  67  33  58 118]]\n",
      "Classification Report:\n",
      "              precision    recall  f1-score   support\n",
      "\n",
      "           0       0.45      0.62      0.52       409\n",
      "           1       0.38      0.47      0.42       784\n",
      "           2       0.57      0.53      0.55       693\n",
      "           3       0.58      0.56      0.57       694\n",
      "           4       0.44      0.35      0.39       674\n",
      "           5       0.43      0.27      0.33       437\n",
      "\n",
      "    accuracy                           0.47      3691\n",
      "   macro avg       0.47      0.47      0.46      3691\n",
      "weighted avg       0.48      0.47      0.47      3691\n",
      "\n",
      "Accuracy: 0.4706041723110268\n"
     ]
    }
   ],
   "source": [
    "from sklearn.metrics import classification_report, confusion_matrix, accuracy_score\n",
    "result = confusion_matrix(y_test, ypred)\n",
    "print(\"Confusion Matrix:\")\n",
    "print(result)\n",
    "result1 = classification_report(y_test, ypred)\n",
    "print(\"Classification Report:\")\n",
    "print (result1)\n",
    "result2 = accuracy_score(y_test,ypred)\n",
    "print(\"Accuracy:\",result2)"
   ]
  },
  {
   "cell_type": "markdown",
   "id": "a9b67110",
   "metadata": {},
   "source": [
    "In order to try improving this low accuracy of our model, we decided to try removing latin and r&b due to the similarities in the mean ratings of their features based on the bar graphs above. <br>\n",
    "With the new model, predicting only edm, pop, rap, and rock, we were able to produce an accuracy of .63"
   ]
  },
  {
   "cell_type": "code",
   "execution_count": 28,
   "id": "22e41893",
   "metadata": {},
   "outputs": [],
   "source": [
    "EDA_df.drop(df.index[df['playlist_genre'] == 'latin'], inplace = True)\n",
    "EDA_df.drop(df.index[df['playlist_genre'] == 'r&b'], inplace = True)\n",
    "newGenre_EDA = {'playlist_genre':{'edm':0,'pop':1,'rap':2,'rock':3}}\n",
    "EDA_df = EDA_df.replace(newGenre_EDA)\n",
    "preNormalizedData_EDA = EDA_df[['track_popularity', 'danceability', 'speechiness','tempo', 'energy', 'instrumentalness', 'loudness', 'duration_ms','playlist_genre', 'valence', 'acousticness']]\n",
    "x_data_EDA = preNormalizedData_EDA.drop(['playlist_genre'],axis=1)\n",
    "y_data_EDA = preNormalizedData_EDA['playlist_genre']\n",
    "\n",
    "X_data_minmax_EDA = MinMaxScaler.fit_transform(x_data_EDA)\n",
    "normalizedData_EDA = pd.DataFrame(X_data_minmax_EDA,columns=['track_popularity', 'danceability', 'instrumentalness', 'speechiness','tempo', 'energy', 'loudness', 'duration_ms', 'valence', 'acousticness'])\n",
    "normalizedData_EDA = normalizedData_EDA.set_index(y_data_EDA.index)\n",
    "fullNormalizedData_EDA = normalizedData_EDA.copy()\n",
    "fullNormalizedData_EDA['playlist_genre'] = preNormalizedData_EDA['playlist_genre']"
   ]
  },
  {
   "cell_type": "code",
   "execution_count": 29,
   "id": "b40146e8",
   "metadata": {},
   "outputs": [],
   "source": [
    "X_train, X_test, y_train, y_test = train_test_split(normalizedData_EDA, y_data_EDA,test_size=0.2, random_state = 1)\n",
    "knn_clf = KNeighborsClassifier()\n",
    "knn_clf.fit(X_train,y_train)\n",
    "ypred=knn_clf.predict(X_test)"
   ]
  },
  {
   "cell_type": "code",
   "execution_count": 30,
   "id": "729f648c",
   "metadata": {},
   "outputs": [
    {
     "name": "stdout",
     "output_type": "stream",
     "text": [
      "Confusion Matrix:\n",
      "[[261 114  23  24]\n",
      " [120 479  72 100]\n",
      " [ 51 164 434  36]\n",
      " [ 42 190  20 460]]\n",
      "Classification Report:\n",
      "              precision    recall  f1-score   support\n",
      "\n",
      "           0       0.55      0.62      0.58       422\n",
      "           1       0.51      0.62      0.56       771\n",
      "           2       0.79      0.63      0.70       685\n",
      "           3       0.74      0.65      0.69       712\n",
      "\n",
      "    accuracy                           0.63      2590\n",
      "   macro avg       0.65      0.63      0.63      2590\n",
      "weighted avg       0.65      0.63      0.64      2590\n",
      "\n",
      "Accuracy: 0.6308880308880309\n"
     ]
    }
   ],
   "source": [
    "from sklearn.metrics import classification_report, confusion_matrix, accuracy_score\n",
    "result = confusion_matrix(y_test, ypred)\n",
    "print(\"Confusion Matrix:\")\n",
    "print(result)\n",
    "result1 = classification_report(y_test, ypred)\n",
    "print(\"Classification Report:\")\n",
    "print (result1)\n",
    "result2 = accuracy_score(y_test,ypred)\n",
    "print(\"Accuracy:\",result2)"
   ]
  },
  {
   "cell_type": "markdown",
   "id": "a4cff395",
   "metadata": {},
   "source": [
    "Next, we tried looping through every combination with at least 5 features and 3 genres to try finding the best accuracy."
   ]
  },
  {
   "cell_type": "code",
   "execution_count": 31,
   "id": "f9bd66f0-1358-43c1-bea8-dd8e4b1ad443",
   "metadata": {},
   "outputs": [],
   "source": [
    "import time"
   ]
  },
  {
   "cell_type": "markdown",
   "id": "2a033026",
   "metadata": {},
   "source": [
    "Import libraries and define the powerset function."
   ]
  },
  {
   "cell_type": "code",
   "execution_count": 33,
   "id": "3aed3632-7459-454d-904f-bf63044b8996",
   "metadata": {},
   "outputs": [],
   "source": [
    "from itertools import chain, combinations\n",
    "from concurrent import futures\n",
    "import datetime\n",
    "def powerset(iterable, min, max):\n",
    "    \"powerset([1,2,3]) -->() (1,) (2,) (3,) (1,2) (1,3) (2,3) (1,2,3)\"\n",
    "    s = list(iterable)\n",
    "    return chain.from_iterable(combinations(s, r) for r in range(min, max))"
   ]
  },
  {
   "cell_type": "code",
   "execution_count": 44,
   "id": "ac1fb3e3-903a-4234-991c-3d26be136ad1",
   "metadata": {},
   "outputs": [],
   "source": [
    "temp_features = ['track_popularity', 'danceability', 'energy', 'key', 'loudness', 'mode', 'speechiness', 'acousticness', 'instrumentalness', 'liveness', 'valence', 'tempo', 'duration_ms']\n",
    "feat_comb = list(powerset(temp_features, 5, len(temp_features)+1))"
   ]
  },
  {
   "cell_type": "code",
   "execution_count": 35,
   "id": "27014b29-b30f-42cd-8fb5-f9e72ad55deb",
   "metadata": {},
   "outputs": [],
   "source": [
    "genres = ['edm', 'pop', 'rap', 'rock', 'r&b', 'latin'] #genres being removed\n",
    "rem_genre_comb = list(powerset(genres, 0, 4))"
   ]
  },
  {
   "cell_type": "markdown",
   "id": "121ed8a9",
   "metadata": {},
   "source": [
    "We loop through each possible combination, testing the accuracy of its KNN model to then determine the best overall accuracy."
   ]
  },
  {
   "cell_type": "code",
   "execution_count": 36,
   "id": "d6c816a9-9670-47a4-8324-554941d7c91a",
   "metadata": {},
   "outputs": [
    {
     "name": "stdout",
     "output_type": "stream",
     "text": [
      "Starting\n",
      "2022-06-04 17:04:02.755293\n",
      "('edm', 'pop')\n",
      "29.84822416305542 s\n",
      "('pop',)\n",
      "34.56515336036682 s\n",
      "('rock',)\n",
      "34.75464582443237 s\n",
      "('r&b',)\n",
      "36.69663619995117 s\n",
      "('rap',)\n",
      "37.03425693511963 s\n",
      "('latin',)\n",
      "39.38464021682739 s\n",
      "('edm',)\n",
      "40.0018424987793 s\n",
      "()\n",
      "44.6952109336853 s\n",
      "('edm', 'rap')\n",
      "27.047967672348022 s\n",
      "('pop', 'rap')\n",
      "23.26003861427307 s\n",
      "('edm', 'rock')\n",
      "26.79314875602722 s\n",
      "('pop', 'rock')\n",
      "22.666531324386597 s\n",
      "('edm', 'r&b')\n",
      "28.038539171218872 s\n",
      "('pop', 'r&b')\n",
      "24.54838252067566 s\n",
      "('edm', 'latin')\n",
      "30.8897807598114 s\n",
      "('pop', 'latin')\n",
      "27.18241810798645 s\n",
      "('rap', 'rock')\n",
      "24.864214420318604 s\n",
      "('rap', 'r&b')\n",
      "26.859485387802124 s\n",
      "('edm', 'pop', 'rap')\n",
      "21.803558826446533 s\n",
      "('rock', 'r&b')\n",
      "29.4537296295166 s\n",
      "('rap', 'latin')\n",
      "31.508143424987793 s\n",
      "('rock', 'latin')\n",
      "31.113771200180054 s\n",
      "('edm', 'pop', 'rock')\n",
      "22.812278032302856 s\n",
      "('r&b', 'latin')\n",
      "32.60349225997925 s\n",
      "('edm', 'pop', 'r&b')\n",
      "23.59246015548706 s\n",
      "('edm', 'pop', 'latin')\n",
      "23.262115001678467 s\n",
      "('edm', 'rap', 'rock')\n",
      "21.64817190170288 s\n",
      "('edm', 'rap', 'r&b')\n",
      "21.013134002685547 s\n",
      "('edm', 'rock', 'r&b')\n",
      "20.65241575241089 s\n",
      "('edm', 'rap', 'latin')\n",
      "22.475343227386475 s\n",
      "('edm', 'rock', 'latin')\n",
      "21.29612159729004 s\n",
      "('edm', 'r&b', 'latin')\n",
      "22.192627429962158 s\n",
      "('pop', 'rap', 'rock')\n",
      "15.307574033737183 s\n",
      "('pop', 'rap', 'r&b')\n",
      "16.020614862442017 s\n",
      "('pop', 'rock', 'r&b')\n",
      "15.577568292617798 s\n",
      "('pop', 'rap', 'latin')\n",
      "17.29629373550415 s\n",
      "('pop', 'rock', 'latin')\n",
      "16.17428755760193 s\n",
      "('rap', 'rock', 'r&b')\n",
      "15.770691871643066 s\n",
      "('pop', 'r&b', 'latin')\n",
      "16.563531637191772 s\n",
      "('rap', 'rock', 'latin')\n",
      "14.994378328323364 s\n",
      "('rap', 'r&b', 'latin')\n",
      "14.871062994003296 s\n",
      "('rock', 'r&b', 'latin')\n",
      "10.974644422531128 s\n",
      "Finishing\n",
      "2022-06-04 17:06:20.176421\n"
     ]
    }
   ],
   "source": [
    "df3 = df.copy()\n",
    "df3.drop(['lyrics', 'track_album_id', 'track_album_name', 'track_album_release_date', 'playlist_name', 'playlist_id', 'track_id', 'track_artist', 'playlist_subgenre'], axis=1, inplace=True)\n",
    "\n",
    "#2d array of accuracies\n",
    "accuracy_df = pd.DataFrame(columns = rem_genre_comb)\n",
    "\n",
    "# insert column of accuracy into df for given drop_genre\n",
    "def knn_column(drop_genre, df):\n",
    "    start_time = time.time()\n",
    "    \n",
    "    # temporary column to add to df\n",
    "    loop_column = []\n",
    "    \n",
    "    # copy df, drop genres for given drop_genre\n",
    "    loopdf = df3.copy()\n",
    "    for drop_g in drop_genre:\n",
    "        loopdf.drop(loopdf.index[loopdf['playlist_genre'] == drop_g], inplace=True)\n",
    "    loopdf = loopdf.replace(newGenre)\n",
    "    \n",
    "    # loop through every 7099 combinations of features\n",
    "    for f in feat_comb:\n",
    "        temp_feat = list(f)\n",
    "        temp_feat_g = temp_feat.copy()\n",
    "        temp_feat_g.append('playlist_genre')\n",
    "        loop_preN = loopdf[temp_feat_g]\n",
    "        temp_x = loop_preN.drop(['playlist_genre'], axis=1)\n",
    "        temp_y = loop_preN['playlist_genre']\n",
    "        \n",
    "        minmax = preprocessing.MinMaxScaler()\n",
    "        temp_x_minmax = minmax.fit_transform(temp_x)\n",
    "        loop_N = pd.DataFrame(temp_x_minmax, columns=temp_feat)\n",
    "        loop_N = loop_N.set_index(temp_y.index)\n",
    "        \n",
    "        loop_X_train, loop_X_test, loop_y_train, loop_y_test = train_test_split(loop_N, temp_y, test_size=0.2, random_state=1)\n",
    "        loop_knn = KNeighborsClassifier(n_neighbors=31, weights='distance', p=1)\n",
    "        loop_knn.fit(loop_X_train, loop_y_train)\n",
    "        loop_ypred = loop_knn.predict(loop_X_test)\n",
    "        \n",
    "        # insert accuracy into temporery column\n",
    "        loop_column.append(accuracy_score(loop_y_test, loop_ypred))\n",
    "    print(drop_genre)\n",
    "    print(\"%s s\" % (time.time() - start_time))\n",
    "    # insert results into 2d array of accuracies\n",
    "    df[drop_genre] = loop_column\n",
    "\n",
    "print(\"Starting\")\n",
    "print(datetime.datetime.now())\n",
    "\n",
    "# process list\n",
    "future_list = []\n",
    "# run with 8 processes\n",
    "with futures.ThreadPoolExecutor(max_workers=8) as executor:\n",
    "    # loop through every 42 conbinations of dropped genres\n",
    "    for i in rem_genre_comb:\n",
    "        # assign each process knn_column function with genres i to drop and accuracy_df to write the result\n",
    "        future = executor.submit(knn_column, i, accuracy_df)\n",
    "        future_list.append(future)\n",
    "    _ = futures.as_completed(fs=future_list)\n",
    "\n",
    "print(\"Finishing\")\n",
    "print(datetime.datetime.now())    "
   ]
  },
  {
   "cell_type": "markdown",
   "id": "4be88180",
   "metadata": {},
   "source": [
    "Output the accuracy dataframe to find the most accuracte combination."
   ]
  },
  {
   "cell_type": "code",
   "execution_count": 42,
   "id": "324c8ce6-b5a4-4d84-b608-0af67727ac58",
   "metadata": {},
   "outputs": [
    {
     "data": {
      "text/html": [
       "<div>\n",
       "<style scoped>\n",
       "    .dataframe tbody tr th:only-of-type {\n",
       "        vertical-align: middle;\n",
       "    }\n",
       "\n",
       "    .dataframe tbody tr th {\n",
       "        vertical-align: top;\n",
       "    }\n",
       "\n",
       "    .dataframe thead th {\n",
       "        text-align: right;\n",
       "    }\n",
       "</style>\n",
       "<table border=\"1\" class=\"dataframe\">\n",
       "  <thead>\n",
       "    <tr style=\"text-align: right;\">\n",
       "      <th></th>\n",
       "      <th>()</th>\n",
       "      <th>(edm,)</th>\n",
       "      <th>(pop,)</th>\n",
       "      <th>(rap,)</th>\n",
       "      <th>(rock,)</th>\n",
       "      <th>(r&amp;b,)</th>\n",
       "      <th>(latin,)</th>\n",
       "      <th>(edm, pop)</th>\n",
       "      <th>(edm, rap)</th>\n",
       "      <th>(edm, rock)</th>\n",
       "      <th>...</th>\n",
       "      <th>(pop, rap, rock)</th>\n",
       "      <th>(pop, rap, r&amp;b)</th>\n",
       "      <th>(pop, rap, latin)</th>\n",
       "      <th>(pop, rock, r&amp;b)</th>\n",
       "      <th>(pop, rock, latin)</th>\n",
       "      <th>(pop, r&amp;b, latin)</th>\n",
       "      <th>(rap, rock, r&amp;b)</th>\n",
       "      <th>(rap, rock, latin)</th>\n",
       "      <th>(rap, r&amp;b, latin)</th>\n",
       "      <th>(rock, r&amp;b, latin)</th>\n",
       "    </tr>\n",
       "    <tr>\n",
       "      <th>Combination</th>\n",
       "      <th></th>\n",
       "      <th></th>\n",
       "      <th></th>\n",
       "      <th></th>\n",
       "      <th></th>\n",
       "      <th></th>\n",
       "      <th></th>\n",
       "      <th></th>\n",
       "      <th></th>\n",
       "      <th></th>\n",
       "      <th></th>\n",
       "      <th></th>\n",
       "      <th></th>\n",
       "      <th></th>\n",
       "      <th></th>\n",
       "      <th></th>\n",
       "      <th></th>\n",
       "      <th></th>\n",
       "      <th></th>\n",
       "      <th></th>\n",
       "      <th></th>\n",
       "    </tr>\n",
       "  </thead>\n",
       "  <tbody>\n",
       "    <tr>\n",
       "      <th>(danceability, energy, loudness, mode, speechiness)</th>\n",
       "      <td>0.465186</td>\n",
       "      <td>0.504875</td>\n",
       "      <td>0.551676</td>\n",
       "      <td>0.477265</td>\n",
       "      <td>0.465015</td>\n",
       "      <td>0.514871</td>\n",
       "      <td>0.503993</td>\n",
       "      <td>0.602657</td>\n",
       "      <td>0.553379</td>\n",
       "      <td>0.528704</td>\n",
       "      <td>...</td>\n",
       "      <td>0.622517</td>\n",
       "      <td>0.701097</td>\n",
       "      <td>0.728499</td>\n",
       "      <td>0.634931</td>\n",
       "      <td>0.671420</td>\n",
       "      <td>0.773438</td>\n",
       "      <td>0.561436</td>\n",
       "      <td>0.572344</td>\n",
       "      <td>0.622385</td>\n",
       "      <td>0.639449</td>\n",
       "    </tr>\n",
       "    <tr>\n",
       "      <th>(danceability, energy, loudness, mode, valence)</th>\n",
       "      <td>0.436196</td>\n",
       "      <td>0.460085</td>\n",
       "      <td>0.526443</td>\n",
       "      <td>0.464985</td>\n",
       "      <td>0.427184</td>\n",
       "      <td>0.480502</td>\n",
       "      <td>0.464373</td>\n",
       "      <td>0.551127</td>\n",
       "      <td>0.523425</td>\n",
       "      <td>0.474011</td>\n",
       "      <td>...</td>\n",
       "      <td>0.648344</td>\n",
       "      <td>0.713363</td>\n",
       "      <td>0.720067</td>\n",
       "      <td>0.606697</td>\n",
       "      <td>0.636623</td>\n",
       "      <td>0.730469</td>\n",
       "      <td>0.576642</td>\n",
       "      <td>0.581420</td>\n",
       "      <td>0.643828</td>\n",
       "      <td>0.587487</td>\n",
       "    </tr>\n",
       "    <tr>\n",
       "      <th>(danceability, energy, loudness, mode, tempo)</th>\n",
       "      <td>0.456245</td>\n",
       "      <td>0.480804</td>\n",
       "      <td>0.568268</td>\n",
       "      <td>0.507136</td>\n",
       "      <td>0.477402</td>\n",
       "      <td>0.510575</td>\n",
       "      <td>0.507985</td>\n",
       "      <td>0.581320</td>\n",
       "      <td>0.573349</td>\n",
       "      <td>0.521334</td>\n",
       "      <td>...</td>\n",
       "      <td>0.675497</td>\n",
       "      <td>0.752098</td>\n",
       "      <td>0.740304</td>\n",
       "      <td>0.655942</td>\n",
       "      <td>0.689104</td>\n",
       "      <td>0.748326</td>\n",
       "      <td>0.618613</td>\n",
       "      <td>0.620395</td>\n",
       "      <td>0.649059</td>\n",
       "      <td>0.629905</td>\n",
       "    </tr>\n",
       "    <tr>\n",
       "      <th>(danceability, energy, loudness, mode, duration_ms)</th>\n",
       "      <td>0.435654</td>\n",
       "      <td>0.458867</td>\n",
       "      <td>0.508469</td>\n",
       "      <td>0.460339</td>\n",
       "      <td>0.424841</td>\n",
       "      <td>0.472902</td>\n",
       "      <td>0.475737</td>\n",
       "      <td>0.564412</td>\n",
       "      <td>0.533794</td>\n",
       "      <td>0.485648</td>\n",
       "      <td>...</td>\n",
       "      <td>0.625828</td>\n",
       "      <td>0.710136</td>\n",
       "      <td>0.698707</td>\n",
       "      <td>0.578464</td>\n",
       "      <td>0.616087</td>\n",
       "      <td>0.725446</td>\n",
       "      <td>0.553528</td>\n",
       "      <td>0.565403</td>\n",
       "      <td>0.632845</td>\n",
       "      <td>0.584836</td>\n",
       "    </tr>\n",
       "    <tr>\n",
       "      <th>(danceability, energy, loudness, speechiness, valence)</th>\n",
       "      <td>0.483880</td>\n",
       "      <td>0.521024</td>\n",
       "      <td>0.579675</td>\n",
       "      <td>0.481912</td>\n",
       "      <td>0.485437</td>\n",
       "      <td>0.544944</td>\n",
       "      <td>0.520885</td>\n",
       "      <td>0.609098</td>\n",
       "      <td>0.563364</td>\n",
       "      <td>0.527153</td>\n",
       "      <td>...</td>\n",
       "      <td>0.658940</td>\n",
       "      <td>0.734022</td>\n",
       "      <td>0.748735</td>\n",
       "      <td>0.671701</td>\n",
       "      <td>0.703936</td>\n",
       "      <td>0.794085</td>\n",
       "      <td>0.588200</td>\n",
       "      <td>0.601175</td>\n",
       "      <td>0.652720</td>\n",
       "      <td>0.665960</td>\n",
       "    </tr>\n",
       "    <tr>\n",
       "      <th>...</th>\n",
       "      <td>...</td>\n",
       "      <td>...</td>\n",
       "      <td>...</td>\n",
       "      <td>...</td>\n",
       "      <td>...</td>\n",
       "      <td>...</td>\n",
       "      <td>...</td>\n",
       "      <td>...</td>\n",
       "      <td>...</td>\n",
       "      <td>...</td>\n",
       "      <td>...</td>\n",
       "      <td>...</td>\n",
       "      <td>...</td>\n",
       "      <td>...</td>\n",
       "      <td>...</td>\n",
       "      <td>...</td>\n",
       "      <td>...</td>\n",
       "      <td>...</td>\n",
       "      <td>...</td>\n",
       "      <td>...</td>\n",
       "      <td>...</td>\n",
       "    </tr>\n",
       "    <tr>\n",
       "      <th>(danceability, energy, loudness, speechiness, valence, tempo, duration_ms)</th>\n",
       "      <td>0.538336</td>\n",
       "      <td>0.562767</td>\n",
       "      <td>0.627376</td>\n",
       "      <td>0.534683</td>\n",
       "      <td>0.551055</td>\n",
       "      <td>0.592862</td>\n",
       "      <td>0.571560</td>\n",
       "      <td>0.649356</td>\n",
       "      <td>0.594086</td>\n",
       "      <td>0.571761</td>\n",
       "      <td>...</td>\n",
       "      <td>0.701987</td>\n",
       "      <td>0.799225</td>\n",
       "      <td>0.784711</td>\n",
       "      <td>0.715036</td>\n",
       "      <td>0.738163</td>\n",
       "      <td>0.825893</td>\n",
       "      <td>0.627129</td>\n",
       "      <td>0.663641</td>\n",
       "      <td>0.679393</td>\n",
       "      <td>0.702545</td>\n",
       "    </tr>\n",
       "    <tr>\n",
       "      <th>(danceability, energy, mode, speechiness, valence, tempo, duration_ms)</th>\n",
       "      <td>0.521810</td>\n",
       "      <td>0.546313</td>\n",
       "      <td>0.610439</td>\n",
       "      <td>0.530368</td>\n",
       "      <td>0.541346</td>\n",
       "      <td>0.583609</td>\n",
       "      <td>0.562346</td>\n",
       "      <td>0.638889</td>\n",
       "      <td>0.584485</td>\n",
       "      <td>0.567494</td>\n",
       "      <td>...</td>\n",
       "      <td>0.690728</td>\n",
       "      <td>0.780504</td>\n",
       "      <td>0.769533</td>\n",
       "      <td>0.714380</td>\n",
       "      <td>0.731318</td>\n",
       "      <td>0.821987</td>\n",
       "      <td>0.622871</td>\n",
       "      <td>0.648692</td>\n",
       "      <td>0.656904</td>\n",
       "      <td>0.691410</td>\n",
       "    </tr>\n",
       "    <tr>\n",
       "      <th>(danceability, loudness, mode, speechiness, valence, tempo, duration_ms)</th>\n",
       "      <td>0.511785</td>\n",
       "      <td>0.539610</td>\n",
       "      <td>0.600069</td>\n",
       "      <td>0.505808</td>\n",
       "      <td>0.517576</td>\n",
       "      <td>0.582948</td>\n",
       "      <td>0.542690</td>\n",
       "      <td>0.620370</td>\n",
       "      <td>0.567204</td>\n",
       "      <td>0.550039</td>\n",
       "      <td>...</td>\n",
       "      <td>0.676821</td>\n",
       "      <td>0.779858</td>\n",
       "      <td>0.745363</td>\n",
       "      <td>0.705844</td>\n",
       "      <td>0.697661</td>\n",
       "      <td>0.806362</td>\n",
       "      <td>0.628345</td>\n",
       "      <td>0.633743</td>\n",
       "      <td>0.655335</td>\n",
       "      <td>0.696182</td>\n",
       "    </tr>\n",
       "    <tr>\n",
       "      <th>(energy, loudness, mode, speechiness, valence, tempo, duration_ms)</th>\n",
       "      <td>0.483338</td>\n",
       "      <td>0.518282</td>\n",
       "      <td>0.575181</td>\n",
       "      <td>0.500166</td>\n",
       "      <td>0.519585</td>\n",
       "      <td>0.547257</td>\n",
       "      <td>0.542383</td>\n",
       "      <td>0.601047</td>\n",
       "      <td>0.551459</td>\n",
       "      <td>0.534911</td>\n",
       "      <td>...</td>\n",
       "      <td>0.686755</td>\n",
       "      <td>0.735313</td>\n",
       "      <td>0.726813</td>\n",
       "      <td>0.694682</td>\n",
       "      <td>0.698802</td>\n",
       "      <td>0.771205</td>\n",
       "      <td>0.612530</td>\n",
       "      <td>0.646556</td>\n",
       "      <td>0.628138</td>\n",
       "      <td>0.678685</td>\n",
       "    </tr>\n",
       "    <tr>\n",
       "      <th>(danceability, energy, loudness, mode, speechiness, valence, tempo, duration_ms)</th>\n",
       "      <td>0.536711</td>\n",
       "      <td>0.556063</td>\n",
       "      <td>0.627031</td>\n",
       "      <td>0.543976</td>\n",
       "      <td>0.539672</td>\n",
       "      <td>0.583609</td>\n",
       "      <td>0.565725</td>\n",
       "      <td>0.645330</td>\n",
       "      <td>0.599462</td>\n",
       "      <td>0.565943</td>\n",
       "      <td>...</td>\n",
       "      <td>0.705960</td>\n",
       "      <td>0.789542</td>\n",
       "      <td>0.783024</td>\n",
       "      <td>0.709127</td>\n",
       "      <td>0.731888</td>\n",
       "      <td>0.832589</td>\n",
       "      <td>0.623479</td>\n",
       "      <td>0.657234</td>\n",
       "      <td>0.670502</td>\n",
       "      <td>0.701485</td>\n",
       "    </tr>\n",
       "  </tbody>\n",
       "</table>\n",
       "<p>93 rows × 42 columns</p>\n",
       "</div>"
      ],
      "text/plain": [
       "                                                          ()    (edm,)  \\\n",
       "Combination                                                              \n",
       "(danceability, energy, loudness, mode, speechin...  0.465186  0.504875   \n",
       "(danceability, energy, loudness, mode, valence)     0.436196  0.460085   \n",
       "(danceability, energy, loudness, mode, tempo)       0.456245  0.480804   \n",
       "(danceability, energy, loudness, mode, duration...  0.435654  0.458867   \n",
       "(danceability, energy, loudness, speechiness, v...  0.483880  0.521024   \n",
       "...                                                      ...       ...   \n",
       "(danceability, energy, loudness, speechiness, v...  0.538336  0.562767   \n",
       "(danceability, energy, mode, speechiness, valen...  0.521810  0.546313   \n",
       "(danceability, loudness, mode, speechiness, val...  0.511785  0.539610   \n",
       "(energy, loudness, mode, speechiness, valence, ...  0.483338  0.518282   \n",
       "(danceability, energy, loudness, mode, speechin...  0.536711  0.556063   \n",
       "\n",
       "                                                      (pop,)    (rap,)  \\\n",
       "Combination                                                              \n",
       "(danceability, energy, loudness, mode, speechin...  0.551676  0.477265   \n",
       "(danceability, energy, loudness, mode, valence)     0.526443  0.464985   \n",
       "(danceability, energy, loudness, mode, tempo)       0.568268  0.507136   \n",
       "(danceability, energy, loudness, mode, duration...  0.508469  0.460339   \n",
       "(danceability, energy, loudness, speechiness, v...  0.579675  0.481912   \n",
       "...                                                      ...       ...   \n",
       "(danceability, energy, loudness, speechiness, v...  0.627376  0.534683   \n",
       "(danceability, energy, mode, speechiness, valen...  0.610439  0.530368   \n",
       "(danceability, loudness, mode, speechiness, val...  0.600069  0.505808   \n",
       "(energy, loudness, mode, speechiness, valence, ...  0.575181  0.500166   \n",
       "(danceability, energy, loudness, mode, speechin...  0.627031  0.543976   \n",
       "\n",
       "                                                     (rock,)    (r&b,)  \\\n",
       "Combination                                                              \n",
       "(danceability, energy, loudness, mode, speechin...  0.465015  0.514871   \n",
       "(danceability, energy, loudness, mode, valence)     0.427184  0.480502   \n",
       "(danceability, energy, loudness, mode, tempo)       0.477402  0.510575   \n",
       "(danceability, energy, loudness, mode, duration...  0.424841  0.472902   \n",
       "(danceability, energy, loudness, speechiness, v...  0.485437  0.544944   \n",
       "...                                                      ...       ...   \n",
       "(danceability, energy, loudness, speechiness, v...  0.551055  0.592862   \n",
       "(danceability, energy, mode, speechiness, valen...  0.541346  0.583609   \n",
       "(danceability, loudness, mode, speechiness, val...  0.517576  0.582948   \n",
       "(energy, loudness, mode, speechiness, valence, ...  0.519585  0.547257   \n",
       "(danceability, energy, loudness, mode, speechin...  0.539672  0.583609   \n",
       "\n",
       "                                                    (latin,)  (edm, pop)  \\\n",
       "Combination                                                                \n",
       "(danceability, energy, loudness, mode, speechin...  0.503993    0.602657   \n",
       "(danceability, energy, loudness, mode, valence)     0.464373    0.551127   \n",
       "(danceability, energy, loudness, mode, tempo)       0.507985    0.581320   \n",
       "(danceability, energy, loudness, mode, duration...  0.475737    0.564412   \n",
       "(danceability, energy, loudness, speechiness, v...  0.520885    0.609098   \n",
       "...                                                      ...         ...   \n",
       "(danceability, energy, loudness, speechiness, v...  0.571560    0.649356   \n",
       "(danceability, energy, mode, speechiness, valen...  0.562346    0.638889   \n",
       "(danceability, loudness, mode, speechiness, val...  0.542690    0.620370   \n",
       "(energy, loudness, mode, speechiness, valence, ...  0.542383    0.601047   \n",
       "(danceability, energy, loudness, mode, speechin...  0.565725    0.645330   \n",
       "\n",
       "                                                    (edm, rap)  (edm, rock)  \\\n",
       "Combination                                                                   \n",
       "(danceability, energy, loudness, mode, speechin...    0.553379     0.528704   \n",
       "(danceability, energy, loudness, mode, valence)       0.523425     0.474011   \n",
       "(danceability, energy, loudness, mode, tempo)         0.573349     0.521334   \n",
       "(danceability, energy, loudness, mode, duration...    0.533794     0.485648   \n",
       "(danceability, energy, loudness, speechiness, v...    0.563364     0.527153   \n",
       "...                                                        ...          ...   \n",
       "(danceability, energy, loudness, speechiness, v...    0.594086     0.571761   \n",
       "(danceability, energy, mode, speechiness, valen...    0.584485     0.567494   \n",
       "(danceability, loudness, mode, speechiness, val...    0.567204     0.550039   \n",
       "(energy, loudness, mode, speechiness, valence, ...    0.551459     0.534911   \n",
       "(danceability, energy, loudness, mode, speechin...    0.599462     0.565943   \n",
       "\n",
       "                                                    ...  (pop, rap, rock)  \\\n",
       "Combination                                         ...                     \n",
       "(danceability, energy, loudness, mode, speechin...  ...          0.622517   \n",
       "(danceability, energy, loudness, mode, valence)     ...          0.648344   \n",
       "(danceability, energy, loudness, mode, tempo)       ...          0.675497   \n",
       "(danceability, energy, loudness, mode, duration...  ...          0.625828   \n",
       "(danceability, energy, loudness, speechiness, v...  ...          0.658940   \n",
       "...                                                 ...               ...   \n",
       "(danceability, energy, loudness, speechiness, v...  ...          0.701987   \n",
       "(danceability, energy, mode, speechiness, valen...  ...          0.690728   \n",
       "(danceability, loudness, mode, speechiness, val...  ...          0.676821   \n",
       "(energy, loudness, mode, speechiness, valence, ...  ...          0.686755   \n",
       "(danceability, energy, loudness, mode, speechin...  ...          0.705960   \n",
       "\n",
       "                                                    (pop, rap, r&b)  \\\n",
       "Combination                                                           \n",
       "(danceability, energy, loudness, mode, speechin...         0.701097   \n",
       "(danceability, energy, loudness, mode, valence)            0.713363   \n",
       "(danceability, energy, loudness, mode, tempo)              0.752098   \n",
       "(danceability, energy, loudness, mode, duration...         0.710136   \n",
       "(danceability, energy, loudness, speechiness, v...         0.734022   \n",
       "...                                                             ...   \n",
       "(danceability, energy, loudness, speechiness, v...         0.799225   \n",
       "(danceability, energy, mode, speechiness, valen...         0.780504   \n",
       "(danceability, loudness, mode, speechiness, val...         0.779858   \n",
       "(energy, loudness, mode, speechiness, valence, ...         0.735313   \n",
       "(danceability, energy, loudness, mode, speechin...         0.789542   \n",
       "\n",
       "                                                    (pop, rap, latin)  \\\n",
       "Combination                                                             \n",
       "(danceability, energy, loudness, mode, speechin...           0.728499   \n",
       "(danceability, energy, loudness, mode, valence)              0.720067   \n",
       "(danceability, energy, loudness, mode, tempo)                0.740304   \n",
       "(danceability, energy, loudness, mode, duration...           0.698707   \n",
       "(danceability, energy, loudness, speechiness, v...           0.748735   \n",
       "...                                                               ...   \n",
       "(danceability, energy, loudness, speechiness, v...           0.784711   \n",
       "(danceability, energy, mode, speechiness, valen...           0.769533   \n",
       "(danceability, loudness, mode, speechiness, val...           0.745363   \n",
       "(energy, loudness, mode, speechiness, valence, ...           0.726813   \n",
       "(danceability, energy, loudness, mode, speechin...           0.783024   \n",
       "\n",
       "                                                    (pop, rock, r&b)  \\\n",
       "Combination                                                            \n",
       "(danceability, energy, loudness, mode, speechin...          0.634931   \n",
       "(danceability, energy, loudness, mode, valence)             0.606697   \n",
       "(danceability, energy, loudness, mode, tempo)               0.655942   \n",
       "(danceability, energy, loudness, mode, duration...          0.578464   \n",
       "(danceability, energy, loudness, speechiness, v...          0.671701   \n",
       "...                                                              ...   \n",
       "(danceability, energy, loudness, speechiness, v...          0.715036   \n",
       "(danceability, energy, mode, speechiness, valen...          0.714380   \n",
       "(danceability, loudness, mode, speechiness, val...          0.705844   \n",
       "(energy, loudness, mode, speechiness, valence, ...          0.694682   \n",
       "(danceability, energy, loudness, mode, speechin...          0.709127   \n",
       "\n",
       "                                                    (pop, rock, latin)  \\\n",
       "Combination                                                              \n",
       "(danceability, energy, loudness, mode, speechin...            0.671420   \n",
       "(danceability, energy, loudness, mode, valence)               0.636623   \n",
       "(danceability, energy, loudness, mode, tempo)                 0.689104   \n",
       "(danceability, energy, loudness, mode, duration...            0.616087   \n",
       "(danceability, energy, loudness, speechiness, v...            0.703936   \n",
       "...                                                                ...   \n",
       "(danceability, energy, loudness, speechiness, v...            0.738163   \n",
       "(danceability, energy, mode, speechiness, valen...            0.731318   \n",
       "(danceability, loudness, mode, speechiness, val...            0.697661   \n",
       "(energy, loudness, mode, speechiness, valence, ...            0.698802   \n",
       "(danceability, energy, loudness, mode, speechin...            0.731888   \n",
       "\n",
       "                                                    (pop, r&b, latin)  \\\n",
       "Combination                                                             \n",
       "(danceability, energy, loudness, mode, speechin...           0.773438   \n",
       "(danceability, energy, loudness, mode, valence)              0.730469   \n",
       "(danceability, energy, loudness, mode, tempo)                0.748326   \n",
       "(danceability, energy, loudness, mode, duration...           0.725446   \n",
       "(danceability, energy, loudness, speechiness, v...           0.794085   \n",
       "...                                                               ...   \n",
       "(danceability, energy, loudness, speechiness, v...           0.825893   \n",
       "(danceability, energy, mode, speechiness, valen...           0.821987   \n",
       "(danceability, loudness, mode, speechiness, val...           0.806362   \n",
       "(energy, loudness, mode, speechiness, valence, ...           0.771205   \n",
       "(danceability, energy, loudness, mode, speechin...           0.832589   \n",
       "\n",
       "                                                    (rap, rock, r&b)  \\\n",
       "Combination                                                            \n",
       "(danceability, energy, loudness, mode, speechin...          0.561436   \n",
       "(danceability, energy, loudness, mode, valence)             0.576642   \n",
       "(danceability, energy, loudness, mode, tempo)               0.618613   \n",
       "(danceability, energy, loudness, mode, duration...          0.553528   \n",
       "(danceability, energy, loudness, speechiness, v...          0.588200   \n",
       "...                                                              ...   \n",
       "(danceability, energy, loudness, speechiness, v...          0.627129   \n",
       "(danceability, energy, mode, speechiness, valen...          0.622871   \n",
       "(danceability, loudness, mode, speechiness, val...          0.628345   \n",
       "(energy, loudness, mode, speechiness, valence, ...          0.612530   \n",
       "(danceability, energy, loudness, mode, speechin...          0.623479   \n",
       "\n",
       "                                                    (rap, rock, latin)  \\\n",
       "Combination                                                              \n",
       "(danceability, energy, loudness, mode, speechin...            0.572344   \n",
       "(danceability, energy, loudness, mode, valence)               0.581420   \n",
       "(danceability, energy, loudness, mode, tempo)                 0.620395   \n",
       "(danceability, energy, loudness, mode, duration...            0.565403   \n",
       "(danceability, energy, loudness, speechiness, v...            0.601175   \n",
       "...                                                                ...   \n",
       "(danceability, energy, loudness, speechiness, v...            0.663641   \n",
       "(danceability, energy, mode, speechiness, valen...            0.648692   \n",
       "(danceability, loudness, mode, speechiness, val...            0.633743   \n",
       "(energy, loudness, mode, speechiness, valence, ...            0.646556   \n",
       "(danceability, energy, loudness, mode, speechin...            0.657234   \n",
       "\n",
       "                                                    (rap, r&b, latin)  \\\n",
       "Combination                                                             \n",
       "(danceability, energy, loudness, mode, speechin...           0.622385   \n",
       "(danceability, energy, loudness, mode, valence)              0.643828   \n",
       "(danceability, energy, loudness, mode, tempo)                0.649059   \n",
       "(danceability, energy, loudness, mode, duration...           0.632845   \n",
       "(danceability, energy, loudness, speechiness, v...           0.652720   \n",
       "...                                                               ...   \n",
       "(danceability, energy, loudness, speechiness, v...           0.679393   \n",
       "(danceability, energy, mode, speechiness, valen...           0.656904   \n",
       "(danceability, loudness, mode, speechiness, val...           0.655335   \n",
       "(energy, loudness, mode, speechiness, valence, ...           0.628138   \n",
       "(danceability, energy, loudness, mode, speechin...           0.670502   \n",
       "\n",
       "                                                    (rock, r&b, latin)  \n",
       "Combination                                                             \n",
       "(danceability, energy, loudness, mode, speechin...            0.639449  \n",
       "(danceability, energy, loudness, mode, valence)               0.587487  \n",
       "(danceability, energy, loudness, mode, tempo)                 0.629905  \n",
       "(danceability, energy, loudness, mode, duration...            0.584836  \n",
       "(danceability, energy, loudness, speechiness, v...            0.665960  \n",
       "...                                                                ...  \n",
       "(danceability, energy, loudness, speechiness, v...            0.702545  \n",
       "(danceability, energy, mode, speechiness, valen...            0.691410  \n",
       "(danceability, loudness, mode, speechiness, val...            0.696182  \n",
       "(energy, loudness, mode, speechiness, valence, ...            0.678685  \n",
       "(danceability, energy, loudness, mode, speechin...            0.701485  \n",
       "\n",
       "[93 rows x 42 columns]"
      ]
     },
     "metadata": {},
     "output_type": "display_data"
    }
   ],
   "source": [
    "accuracy_df['Combination'] = feat_comb\n",
    "accuracy_df.set_index('Combination', inplace=True)\n",
    "display(accuracy_df)\n",
    "#accuracy_df.to_csv(\"accuracy1.csv\")"
   ]
  },
  {
   "cell_type": "code",
   "execution_count": 10,
   "id": "183e4d04",
   "metadata": {
    "scrolled": true
   },
   "outputs": [
    {
     "name": "stdout",
     "output_type": "stream",
     "text": [
      "Confusion Matrix:\n",
      "[[293  65  65]\n",
      " [ 71 537  55]\n",
      " [ 50  21 635]]\n",
      "Classification Report:\n",
      "              precision    recall  f1-score   support\n",
      "\n",
      "           0       0.71      0.69      0.70       423\n",
      "           2       0.86      0.81      0.84       663\n",
      "           3       0.84      0.90      0.87       706\n",
      "\n",
      "    accuracy                           0.82      1792\n",
      "   macro avg       0.80      0.80      0.80      1792\n",
      "weighted avg       0.82      0.82      0.82      1792\n",
      "\n",
      "Accuracy: 0.8175223214285714\n"
     ]
    }
   ],
   "source": [
    "X_train, X_test, y_train, y_test = train_test_split(normalizedData, y_data,test_size=0.2, random_state = 1)\n",
    "#knn_clf = KNeighborsClassifier(n_neighbors=35, weights='distance') #0.6656370656370656\n",
    "knn_clf = KNeighborsClassifier(n_neighbors=8, weights='distance', p=1)\n",
    "knn_clf.fit(X_train,y_train)\n",
    "ypred=knn_clf.predict(X_test)\n",
    "\n",
    "from sklearn.metrics import classification_report, confusion_matrix, accuracy_score\n",
    "result = confusion_matrix(y_test, ypred)\n",
    "print(\"Confusion Matrix:\")\n",
    "print(result)\n",
    "result1 = classification_report(y_test, ypred)\n",
    "print(\"Classification Report:\")\n",
    "print (result1)\n",
    "result2 = accuracy_score(y_test,ypred)\n",
    "print(\"Accuracy:\",result2)"
   ]
  },
  {
   "cell_type": "markdown",
   "id": "142c92c5",
   "metadata": {},
   "source": [
    "**Here, we have found the highest accuracy of .8175** <br>\n",
    "It predicts the genres of edm, rap, and rock. <br>\n",
    "The features the KNN model is based on are 'danceability', 'energy', 'loudness', 'mode', 'speechiness', 'valence', 'tempo', and 'duration_ms'. <br>"
   ]
  },
  {
   "cell_type": "markdown",
   "id": "9ee0d093",
   "metadata": {},
   "source": [
    "<br>"
   ]
  },
  {
   "cell_type": "markdown",
   "id": "73a4772b",
   "metadata": {},
   "source": [
    "Contributions: We all contributed equally throughout each part of the project, held meetings regularly where we all discussed parts that we are working on within a group call."
   ]
  }
 ],
 "metadata": {
  "kernelspec": {
   "display_name": "Python 3 (ipykernel)",
   "language": "python",
   "name": "python3"
  },
  "language_info": {
   "codemirror_mode": {
    "name": "ipython",
    "version": 3
   },
   "file_extension": ".py",
   "mimetype": "text/x-python",
   "name": "python",
   "nbconvert_exporter": "python",
   "pygments_lexer": "ipython3",
   "version": "3.9.7"
  }
 },
 "nbformat": 4,
 "nbformat_minor": 5
}
